{
 "cells": [
  {
   "cell_type": "markdown",
   "metadata": {},
   "source": [
    "# KANSR Class-Based API Example\n",
    "\n",
    "This notebook demonstrates how to use the KANSR class from the LLMSR package to perform symbolic regression using Kolmogorov-Arnold Networks (KANs)."
   ]
  },
  {
   "cell_type": "code",
   "execution_count": null,
   "metadata": {},
   "outputs": [],
   "source": [
    "import torch\n",
    "import numpy as np\n",
    "import matplotlib.pyplot as plt\n",
    "from openai import OpenAI\n",
    "import os\n",
    "from dotenv import load_dotenv\n",
    "\n",
    "# Load environment variables\n",
    "load_dotenv()\n",
    "\n",
    "# Import the KANSR class\n",
    "from LLMSR.kansr import KANSR"
   ]
  },
  {
   "cell_type": "markdown",
   "metadata": {},
   "source": [
    "## Set up the client for API calls"
   ]
  },
  {
   "cell_type": "code",
   "execution_count": null,
   "metadata": {},
   "outputs": [],
   "source": [
    "# Initialize OpenAI client\n",
    "client = OpenAI(api_key=os.getenv(\"OPENAI_API_KEY\"))"
   ]
  },
  {
   "cell_type": "markdown",
   "metadata": {},
   "source": [
    "## Define a function to model\n",
    "\n",
    "Let's use a simple function with a mix of trigonometric and polynomial terms."
   ]
  },
  {
   "cell_type": "code",
   "execution_count": null,
   "metadata": {},
   "outputs": [],
   "source": [
    "# Define the target function\n",
    "def target_function(x):\n",
    "    if isinstance(x, torch.Tensor):\n",
    "        return 2.0 * torch.sin(2.0 * x) + 0.5 * x**2\n",
    "    else:\n",
    "        return 2.0 * np.sin(2.0 * x) + 0.5 * x**2\n",
    "\n",
    "# Plot the function\n",
    "x = np.linspace(-3, 3, 100)\n",
    "y = target_function(x)\n",
    "\n",
    "plt.figure(figsize=(10, 6))\n",
    "plt.plot(x, y)\n",
    "plt.title(\"Target Function: 2.0 * sin(2.0 * x) + 0.5 * x²\")\n",
    "plt.xlabel(\"x\")\n",
    "plt.ylabel(\"y\")\n",
    "plt.grid(True)\n",
    "plt.show()"
   ]
  },
  {
   "cell_type": "markdown",
   "metadata": {},
   "source": [
    "## Method 1: Step-by-Step Approach\n",
    "\n",
    "The KANSR class provides flexibility by letting you run each step individually."
   ]
  },
  {
   "cell_type": "code",
   "execution_count": null,
   "metadata": {},
   "outputs": [],
   "source": [
    "# Initialize the KANSR instance\n",
    "# The architecture [1,4,1] means: 1 input node, 4 hidden nodes, 1 output node\n",
    "kansr = KANSR(\n",
    "    client=client,      # API client for LLM calls\n",
    "    width=[1, 4, 1],    # Network architecture\n",
    "    grid=5,             # Grid size for KAN\n",
    "    k=3,                # Number of basis functions\n",
    "    seed=42             # Random seed for reproducibility\n",
    ")"
   ]
  },
  {
   "cell_type": "code",
   "execution_count": null,
   "metadata": {},
   "outputs": [],
   "source": [
    "# Step 1: Create a dataset for training\n",
    "dataset = kansr.create_dataset(\n",
    "    f=target_function,    # The function to approximate\n",
    "    ranges=(-3, 3),       # Input range\n",
    "    n_var=1,              # Number of input variables\n",
    "    train_num=5000,       # Number of training points\n",
    "    test_num=1000         # Number of test points\n",
    ")"
   ]
  },
  {
   "cell_type": "code",
   "execution_count": null,
   "metadata": {},
   "outputs": [],
   "source": [
    "# Step 2: Train the KAN model\n",
    "kansr.train_kan(\n",
    "    dataset=dataset,   # The dataset to train on\n",
    "    opt=\"LBFGS\",       # Optimization algorithm\n",
    "    steps=50,          # Number of optimization steps\n",
    "    prune=True,        # Whether to prune the model after training\n",
    "    node_th=0.2,       # Node threshold for pruning\n",
    "    edge_th=0.2        # Edge threshold for pruning\n",
    ")"
   ]
  },
  {
   "cell_type": "code",
   "execution_count": null,
   "metadata": {},
   "outputs": [],
   "source": [
    "# Step 3: Convert the KAN model to symbolic expressions\n",
    "best_expressions, best_chi_squareds, results_dicts = kansr.get_symbolic(\n",
    "    client=client,              # Client for LLM API calls\n",
    "    population=10,              # Population size for genetic algorithm\n",
    "    generations=3,              # Number of generations for genetic algorithm\n",
    "    temperature=0.1,            # Temperature parameter for genetic algorithm\n",
    "    gpt_model=\"openai/gpt-4o\",  # GPT model to use\n",
    "    verbose=1,                  # Verbosity level\n",
    "    use_async=True,             # Whether to use async execution\n",
    "    plot_fit=True               # Whether to plot fitting results\n",
    ")"
   ]
  },
  {
   "cell_type": "code",
   "execution_count": null,
   "metadata": {},
   "outputs": [],
   "source": [
    "# Print the best expression and its chi-squared value\n",
    "print(f\"Best expression: {best_expressions[0]}\")\n",
    "print(f\"Chi-squared: {best_chi_squareds[0]}\")"
   ]
  },
  {
   "cell_type": "code",
   "execution_count": null,
   "metadata": {},
   "outputs": [],
   "source": [
    "# Plot the results\n",
    "fig, ax = kansr.plot_results(\n",
    "    ranges=(-3, 3),           # Input range for plotting\n",
    "    result_dict=results_dicts[0],  # Results dictionary from get_symbolic\n",
    "    title=\"KAN Symbolic Regression Results\"  # Plot title\n",
    ")\n",
    "plt.show()"
   ]
  },
  {
   "cell_type": "markdown",
   "metadata": {},
   "source": [
    "## Method 2: All-in-One Pipeline\n",
    "\n",
    "For convenience, you can run the entire pipeline in one call."
   ]
  },
  {
   "cell_type": "code",
   "execution_count": null,
   "metadata": {},
   "outputs": [],
   "source": [
    "# Initialize a new KANSR instance\n",
    "kansr2 = KANSR(\n",
    "    client=client,\n",
    "    width=[1, 5, 1],  # Using a slightly different architecture\n",
    "    grid=6,\n",
    "    k=3,\n",
    "    seed=17\n",
    ")"
   ]
  },
  {
   "cell_type": "code",
   "execution_count": null,
   "metadata": {},
   "outputs": [],
   "source": [
    "# Run the complete pipeline\n",
    "results = kansr2.run_complete_pipeline(\n",
    "    client=client,\n",
    "    f=target_function,\n",
    "    ranges=(-3, 3),\n",
    "    train_steps=50,\n",
    "    generations=3,\n",
    "    gpt_model=\"openai/gpt-4o\",\n",
    "    node_th=0.2,\n",
    "    edge_th=0.2,\n",
    "    optimizer=\"LBFGS\",\n",
    "    population=10,\n",
    "    temperature=0.1,\n",
    "    verbose=1,\n",
    "    use_async=True,\n",
    "    plot_fit=True\n",
    ")"
   ]
  },
  {
   "cell_type": "code",
   "execution_count": null,
   "metadata": {},
   "outputs": [],
   "source": [
    "# Print the best expression from the pipeline\n",
    "print(f\"Best expression from pipeline: {results['best_expressions'][0]}\")\n",
    "print(f\"Chi-squared: {results['best_chi_squareds'][0]}\")"
   ]
  },
  {
   "cell_type": "markdown",
   "metadata": {},
   "source": [
    "## Method 3: Using the standalone function\n",
    "\n",
    "You can also use the standalone function `run_complete_pipeline` from the kansr module."
   ]
  },
  {
   "cell_type": "code",
   "execution_count": null,
   "metadata": {},
   "outputs": [],
   "source": [
    "from LLMSR.kansr import run_complete_pipeline\n",
    "\n",
    "# Run the complete pipeline using the standalone function\n",
    "results_standalone = run_complete_pipeline(\n",
    "    client=client,\n",
    "    f=target_function,\n",
    "    ranges=(-3, 3),\n",
    "    width=[1, 4, 1],\n",
    "    grid=5,\n",
    "    k=3,\n",
    "    train_steps=50,\n",
    "    generations=3,\n",
    "    gpt_model=\"openai/gpt-4o\",\n",
    "    device='cpu',\n",
    "    node_th=0.2,\n",
    "    edge_th=0.2,\n",
    "    optimizer=\"LBFGS\",\n",
    "    population=10,\n",
    "    temperature=0.1,\n",
    "    verbose=1,\n",
    "    use_async=True,\n",
    "    plot_fit=True,\n",
    "    seed=42\n",
    ")"
   ]
  },
  {
   "cell_type": "code",
   "execution_count": null,
   "metadata": {},
   "outputs": [],
   "source": [
    "# Print the best expression from the standalone pipeline\n",
    "print(f\"Best expression from standalone pipeline: {results_standalone['best_expressions'][0]}\")\n",
    "print(f\"Chi-squared: {results_standalone['best_chi_squareds'][0]}\")"
   ]
  },
  {
   "cell_type": "markdown",
   "metadata": {},
   "source": [
    "## Advanced Example: Multi-variate Function\n",
    "\n",
    "The KANSR class can also handle multivariate functions."
   ]
  },
  {
   "cell_type": "code",
   "execution_count": null,
   "metadata": {},
   "outputs": [],
   "source": [
    "# Define a multivariate function\n",
    "def multivariate_function(x):\n",
    "    \"\"\"\n",
    "    Function with two input variables: f(x0, x1) = sin(x0) + 0.5 * x1^2\n",
    "    \n",
    "    Args:\n",
    "        x: Tensor of shape [n, 2] where n is batch size\n",
    "        \n",
    "    Returns:\n",
    "        Tensor of shape [n] with function values\n",
    "    \"\"\"\n",
    "    if isinstance(x, torch.Tensor):\n",
    "        return torch.sin(x[:, 0]) + 0.5 * x[:, 1]**2\n",
    "    else:\n",
    "        return np.sin(x[:, 0]) + 0.5 * x[:, 1]**2"
   ]
  },
  {
   "cell_type": "code",
   "execution_count": null,
   "metadata": {},
   "outputs": [],
   "source": [
    "# Initialize a KANSR instance for the multivariate function\n",
    "multivariate_kansr = KANSR(\n",
    "    client=client,\n",
    "    width=[2, 5, 1],  # 2 inputs, 5 hidden nodes, 1 output\n",
    "    grid=5,\n",
    "    k=3,\n",
    "    seed=42\n",
    ")"
   ]
  },
  {
   "cell_type": "code",
   "execution_count": null,
   "metadata": {},
   "outputs": [],
   "source": [
    "# Create a dataset for the multivariate function\n",
    "multivariate_dataset = multivariate_kansr.create_dataset(\n",
    "    f=multivariate_function,\n",
    "    ranges=(-3, 3),  # Same range for both variables\n",
    "    n_var=2,  # Two input variables\n",
    "    train_num=10000,\n",
    "    test_num=1000\n",
    ")"
   ]
  },
  {
   "cell_type": "code",
   "execution_count": null,
   "metadata": {},
   "outputs": [],
   "source": [
    "# Train the KAN model\n",
    "multivariate_kansr.train_kan(\n",
    "    dataset=multivariate_dataset,\n",
    "    opt=\"LBFGS\",\n",
    "    steps=75,  # More steps for multivariate function\n",
    "    prune=True,\n",
    "    node_th=0.2,\n",
    "    edge_th=0.2\n",
    ")"
   ]
  },
  {
   "cell_type": "code",
   "execution_count": null,
   "metadata": {},
   "outputs": [],
   "source": [
    "# Convert to symbolic expressions\n",
    "best_expressions, best_chi_squareds, results_dicts = multivariate_kansr.get_symbolic(\n",
    "    client=client,\n",
    "    population=10,\n",
    "    generations=3,\n",
    "    temperature=0.1,\n",
    "    gpt_model=\"openai/gpt-4o\",\n",
    "    verbose=1,\n",
    "    use_async=True,\n",
    "    plot_fit=True\n",
    ")"
   ]
  },
  {
   "cell_type": "code",
   "execution_count": null,
   "metadata": {},
   "outputs": [],
   "source": [
    "# Print the best expression\n",
    "print(f\"Best multivariate expression: {best_expressions[0]}\")\n",
    "print(f\"Chi-squared: {best_chi_squareds[0]}\")"
   ]
  },
  {
   "cell_type": "markdown",
   "metadata": {},
   "source": [
    "## Summary\n",
    "\n",
    "This notebook demonstrated three different ways to use the KANSR class:\n",
    "\n",
    "1. **Step-by-Step Approach**: Creating a KANSR instance and calling each method individually\n",
    "2. **All-in-One Pipeline**: Using the `run_complete_pipeline` method of the KANSR class\n",
    "3. **Standalone Function**: Using the standalone `run_complete_pipeline` function\n",
    "\n",
    "We also demonstrated how to handle multivariate functions with the KANSR class.\n",
    "\n",
    "The KANSR class provides a convenient and flexible interface for performing symbolic regression with Kolmogorov-Arnold Networks."
   ]
  }
 ],
 "metadata": {
  "kernelspec": {
   "display_name": "Python 3",
   "language": "python",
   "name": "python3"
  },
  "language_info": {
   "codemirror_mode": {
    "name": "ipython",
    "version": 3
   },
   "file_extension": ".py",
   "mimetype": "text/x-python",
   "name": "python",
   "nbconvert_exporter": "python",
   "pygments_lexer": "ipython3",
   "version": "3.10.0"
  }
 },
 "nbformat": 4,
 "nbformat_minor": 4
}
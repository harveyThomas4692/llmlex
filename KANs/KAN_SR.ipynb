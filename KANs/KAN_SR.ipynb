{
 "cells": [
  {
   "cell_type": "code",
   "execution_count": 1,
   "metadata": {},
   "outputs": [],
   "source": [
    "import LLMSR\n",
    "import openai\n",
    "import base64\n",
    "import io\n",
    "import copy\n",
    "\n",
    "import numpy as np\n",
    "import matplotlib.pyplot as plt\n",
    "import torch.nn\n",
    "\n",
    "from kan import *"
   ]
  },
  {
   "cell_type": "code",
   "execution_count": 2,
   "metadata": {},
   "outputs": [
    {
     "data": {
      "text/plain": [
       "93.4549512"
      ]
     },
     "execution_count": 2,
     "metadata": {},
     "output_type": "execute_result"
    }
   ],
   "source": [
    "client = openai.OpenAI(\n",
    "  base_url=\"https://openrouter.ai/api/v1\",\n",
    "  api_key=\"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\",\n",
    ")\n",
    "LLMSR.check_key_limit(client)"
   ]
  },
  {
   "cell_type": "code",
   "execution_count": 3,
   "metadata": {},
   "outputs": [
    {
     "name": "stdout",
     "output_type": "stream",
     "text": [
      "cpu\n",
      "checkpoint directory created: ./model\n",
      "saving model version 0.0\n"
     ]
    },
    {
     "name": "stderr",
     "output_type": "stream",
     "text": [
      "| train_loss: 5.50e-03 | test_loss: 5.35e-03 | reg: 9.86e+00 | : 100%|█| 500/500 [00:32<00:00, 15.60\n"
     ]
    },
    {
     "name": "stdout",
     "output_type": "stream",
     "text": [
      "saving model version 0.1\n"
     ]
    },
    {
     "data": {
      "image/png": "[encoded data removed]",
      "text/plain": [
       "<Figure size 500x600 with 8 Axes>"
      ]
     },
     "metadata": {},
     "output_type": "display_data"
    }
   ],
   "source": [
    "device = torch.device('cuda' if torch.cuda.is_available() else 'cpu')\n",
    "print(device)\n",
    "\n",
    "# initialize KAN with G=3\n",
    "model = KAN(width=[2,1,1,1], grid=5, k=3, seed=9223, device=device, symbolic_enabled=False)\n",
    "\n",
    "# create dataset\n",
    "f = lambda x: torch.exp(torch.sin(torch.pi*x[:,[0]]) + x[:,[1]]**2)\n",
    "dataset = create_dataset(f, n_var=2, train_num=10000, test_num=1000, device=device)\n",
    "res = model.fit(dataset, opt=\"LBFGS\", steps=500);\n",
    "model.plot()"
   ]
  },
  {
   "cell_type": "markdown",
   "metadata": {},
   "source": [
    "# fit KANs splines"
   ]
  },
  {
   "cell_type": "code",
   "execution_count": 4,
   "metadata": {},
   "outputs": [],
   "source": [
    "def generate_base64_image(fig, ax, x, y):\n",
    "    ax.clear()  # Clear previous plot\n",
    "    ax.plot(x, y, label='data')\n",
    "    ax.set_xlabel('x')\n",
    "    ax.set_ylabel('y')\n",
    "    ax.grid(True)\n",
    "    ax.legend()\n",
    "\n",
    "    # Save to buffer\n",
    "    buffer = io.BytesIO()\n",
    "    fig.savefig(buffer, format='png')\n",
    "    buffer.seek(0)  # Reset buffer position\n",
    "    base64_image = base64.b64encode(buffer.getvalue()).decode(\"utf-8\") # encode img into buffer\n",
    "    buffer.close()  # Close buffer\n",
    "    return base64_image\n",
    "\n",
    "def generate_nested_functions(layer_connections):\n",
    "    \"\"\"\n",
    "    Generates a nested function expression for a symbolic computational graph.\n",
    "\n",
    "    Parameters:\n",
    "        layer_connections (dict): A dictionary where keys are layer indices (1 to L),\n",
    "                                  and values are lists of nodes in that layer, \n",
    "                                  each containing a list of indices from the previous layer.\n",
    "\n",
    "    Returns:\n",
    "        str: Nested function string.\n",
    "    \"\"\"\n",
    "    L = max(layer_connections.keys())\n",
    "    def construct_layer(l, node):\n",
    "        \"\"\"Recursively constructs the function for a given node at layer l.\"\"\"\n",
    "        if l == 0:\n",
    "            # Base case: Input layer directly maps to x_i\n",
    "            return f\"f_{{0,{node}}}(x_{node})\"\n",
    "        else:\n",
    "            # Construct sum of incoming connections\n",
    "            inputs = \" + \".join([f\"f_{{{l},{node}}}({construct_layer(l-1, prev)})\" \n",
    "                                 for prev in layer_connections[l].get(node, [])])\n",
    "            return f\"({inputs})\" if inputs else f\"f_{{{l},{node}}}()\"  # Handle empty case\n",
    "\n",
    "    # Construct output as a list\n",
    "    return [construct_layer(L, node) for node in layer_connections[L]]\n",
    "\n",
    "def to_symbolic(model, client, population=10, generations=3, temperature=0.1, gpt_model=\"openai/gpt-4o-mini\", exit_condition=1e-3):\n",
    "    res, res_fcts = 'Sin', {}\n",
    "    layer_connections = {0: {i: [] for i in range(model.width_in[0])}}\n",
    "    for l in range(len(model.width_in) - 1):\n",
    "        layer_connections[l] = {i: list(range(model.width_out[l-1])) if l > 0 else []  for i in range(model.width_in[l])}\n",
    "    symb_formula = generate_nested_functions(layer_connections)\n",
    "    \n",
    "    for l in range(len(model.width_in) - 1):\n",
    "        for i in range(model.width_in[l]):\n",
    "            for j in range(model.width_out[l + 1]):\n",
    "                if (model.symbolic_fun[l].mask[j, i] > 0. and model.act_fun[l].mask[i][j] == 0.):\n",
    "                    print(f'skipping ({l},{i},{j}) since already symbolic')\n",
    "                    symb_formula = [s.replace(f'f_{{{l},{i},{j}}}', 'TODO') for s in symb_formula]\n",
    "                elif (model.symbolic_fun[l].mask[j, i] == 0. and model.act_fun[l].mask[i][j] == 0.):\n",
    "                    model.fix_symbolic(l, i, j, '0', verbose=verbose > 1, log_history=False)\n",
    "                    print(f'fixing ({l},{i},{j}) with 0')\n",
    "                    symb_formula = [s.replace(f'f_{{{l},{i},{j}}}', '0') for s in symb_formula]\n",
    "                    res_fcts[(l, i, j)] = None\n",
    "                else:\n",
    "                    x_min, x_max, y_min, y_max = model.get_range(l, i, j, verbose=False)\n",
    "                    x, y = model.acts[l][:, i].cpu().detach().numpy(), model.spline_postacts[l][:, j, i].cpu().detach().numpy()\n",
    "                    ordered_in = np.argsort(x)\n",
    "                    x, y = x[ordered_in], y[ordered_in]\n",
    "                    fig, ax = plt.subplots()\n",
    "                    plt.xticks([x_min, x_max], ['%2.f' % x_min, '%2.f' % x_max])\n",
    "                    plt.yticks([y_min, y_max], ['%2.f' % y_min, '%2.f' % y_max])\n",
    "                    base64_image = generate_base64_image(fig, ax, x, y)\n",
    "                    print((l,i,j))\n",
    "                    plt.show()\n",
    "                    mask = model.act_fun[l].mask\n",
    "                    try:\n",
    "                        res = LLMSR.run_genetic(client, base64_image, x, y, population, generations, temperature=temperature, model=gpt_model, system_prompt=None, elite=False, exit_condition=exit_condition)\n",
    "                        res_fcts[(l,i,j)] = res\n",
    "                        # symb_formula = [s.replace(f'f_{{{l},{i}}}', res) for s in symb_formula]\n",
    "                    except Exception as e:\n",
    "                        print(e)\n",
    "                        res_fcts[(l,i,j)] = None\n",
    "    ax.clear()\n",
    "    plt.close()\n",
    "    return res_fcts, symb_formula"
   ]
  },
  {
   "cell_type": "code",
   "execution_count": null,
   "metadata": {},
   "outputs": [
    {
     "name": "stdout",
     "output_type": "stream",
     "text": [
      "(0, 0, 0)\n"
     ]
    },
    {
     "data": {
      "image/png": "[encoded data removed]",
      "text/plain": [
       "<Figure size 640x480 with 1 Axes>"
      ]
     },
     "metadata": {},
     "output_type": "display_data"
    },
    {
     "name": "stdout",
     "output_type": "stream",
     "text": [
      "Checking linear function\n",
      "Linear function is not a good fit.\n",
      "Score:  851.1073908274351\n",
      "Constant:  [-0.02611274  0.0744763 ]\n",
      "Generating Initial population population\n"
     ]
    },
    {
     "name": "stderr",
     "output_type": "stream",
     "text": [
      "100%|██████████| 10/10 [00:23<00:00,  2.33s/it]\n"
     ]
    },
    {
     "name": "stdout",
     "output_type": "stream",
     "text": [
      "Best score:  -1.061291104396607\n",
      "Best ansatz:   params[0] + x * params[1] + np.sin(x * params[2]) * params[3]\n",
      "Best params:  [-2.65163345e-02  8.21007079e-04 -3.15059026e+00 -7.82713957e-02]\n",
      "Generation: 1\n"
     ]
    },
    {
     "name": "stderr",
     "output_type": "stream",
     "text": [
      " 20%|██        | 2/10 [00:05<00:20,  2.54s/it]"
     ]
    }
   ],
   "source": [
    "sym_expr = to_symbolic(model, client, gpt_model=\"openai/gpt-4o\", exit_condition=min(res['train_loss']).item())"
   ]
  },
  {
   "cell_type": "code",
   "execution_count": null,
   "metadata": {},
   "outputs": [],
   "source": [
    "import pickle\n",
    "with open('./sym_expr_4o.pkl', 'wb') as hnd:\n",
    "    pickle.dump(sym_expr, hnd)"
   ]
  },
  {
   "cell_type": "code",
   "execution_count": null,
   "metadata": {},
   "outputs": [],
   "source": [
    "import pickle\n",
    "with open('./sym_expr_4o.pkl', 'rb') as hnd:\n",
    "    sym_expr = pickle.load(hnd)"
   ]
  },
  {
   "cell_type": "code",
   "execution_count": null,
   "metadata": {},
   "outputs": [
    {
     "name": "stdout",
     "output_type": "stream",
     "text": [
      "Approximation for (0, 0, 0): params[0] + x * params[1] + params[2] * np.sin(params[3] * x)\n",
      "Parameters are [-0.   0.  -0.1 -3.2]\n",
      "Approximation for (0, 1, 0): lambda x, *params: params[0] + x*params[1]\n",
      "Parameters are [-0.2  0. ]\n",
      "Approximation for (1, 0, 0): params[0] + x * params[1] + x**2 * params[2]\n",
      "Parameters are [ 4.5 26.5 40.6]\n",
      "Approximation for (2, 0, 0): params[0] + x * params[1] + x**2 * params[2]\n",
      "Parameters are [0.1 1.3 0.4]\n"
     ]
    }
   ],
   "source": [
    "initial_params = []\n",
    "for kan_conn, sub_res in sym_expr[0].items():\n",
    "    if sub_res is None:\n",
    "        print(f\"Could not fit a function for connection {kan_conn}\")\n",
    "        continue\n",
    "    highest_score_element = max((item for sublist in sub_res for item in sublist), key=lambda item: item['score'])\n",
    "    print(f\"Approximation for {kan_conn}: {highest_score_element['ansatz'].strip()}\")\n",
    "    print(f\"Parameters are {np.round(highest_score_element['params'], 1)}\")\n",
    "    initial_params += list(highest_score_element['params'])"
   ]
  },
  {
   "cell_type": "code",
   "execution_count": null,
   "metadata": {},
   "outputs": [],
   "source": [
    "def learned_f(X, *params):\n",
    "    x0, x1 = X\n",
    "    l11, l12 = params[0] * np.sin(params[1] * x0 + params[2]) + params[3], params[4] * x1**2 + params[5] * x1 + params[6]\n",
    "    l21 = params[7] * np.sin(params[8] * (l11+l12) + params[9]) + params[10]\n",
    "    l31 = params[11] * np.exp(params[12] * l21) + params[13] * l21 + params[14]\n",
    "    return l31"
   ]
  },
  {
   "cell_type": "code",
   "execution_count": null,
   "metadata": {},
   "outputs": [
    {
     "name": "stderr",
     "output_type": "stream",
     "text": [
      "/var/folders/b6/m5qrk7z12lxb7lpygv99mnmw0000gn/T/ipykernel_3055/1459366936.py:5: RuntimeWarning: overflow encountered in exp\n",
      "  l31 = params[11] * np.exp(params[12] * l21) + params[13] * l21 + params[14]\n",
      "/var/folders/b6/m5qrk7z12lxb7lpygv99mnmw0000gn/T/ipykernel_3055/1459366936.py:5: RuntimeWarning: overflow encountered in multiply\n",
      "  l31 = params[11] * np.exp(params[12] * l21) + params[13] * l21 + params[14]\n"
     ]
    },
    {
     "data": {
      "text/plain": [
       "array([ 4.64036509e-01, -3.14159259e+00, -4.57924339e-08,  6.01180592e-01,\n",
       "       -4.64035944e-01,  1.07539029e-10,  1.10383228e+00, -5.34375777e+00,\n",
       "        6.63273915e-02, -3.09841571e-02,  7.31103207e-01,  1.69796224e-01,\n",
       "        6.07493611e+00, -1.00298521e-02, -2.95022105e-03])"
      ]
     },
     "execution_count": 10,
     "metadata": {},
     "output_type": "execute_result"
    }
   ],
   "source": [
    "from scipy.optimize import curve_fit\n",
    "initial_params = np.random.uniform(-1, 1, 15)\n",
    "popt, _ = curve_fit(learned_f, (dataset['train_input'].cpu().detach().numpy()[:,0], dataset['train_input'].cpu().detach().numpy()[:,1]), dataset['train_label'].cpu().detach().numpy().flatten(), p0=initial_params, maxfev=100000)\n",
    "popt"
   ]
  },
  {
   "cell_type": "code",
   "execution_count": null,
   "metadata": {},
   "outputs": [],
   "source": []
  }
 ],
 "metadata": {
  "kernelspec": {
   "display_name": "llm",
   "language": "python",
   "name": "llm"
  },
  "language_info": {
   "codemirror_mode": {
    "name": "ipython",
    "version": 3
   },
   "file_extension": ".py",
   "mimetype": "text/x-python",
   "name": "python",
   "nbconvert_exporter": "python",
   "pygments_lexer": "ipython3",
   "version": "3.13.2"
  }
 },
 "nbformat": 4,
 "nbformat_minor": 4
}

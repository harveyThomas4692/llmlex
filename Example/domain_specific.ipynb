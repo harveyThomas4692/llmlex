{
 "cells": [
  {
   "cell_type": "code",
   "execution_count": 3,
   "metadata": {},
   "outputs": [],
   "source": [
    "import numpy as np\n",
    "import openai\n",
    "import LLMSR\n",
    "import matplotlib.pyplot as plt"
   ]
  },
  {
   "cell_type": "markdown",
   "metadata": {},
   "source": [
    "https://arxiv.org/pdf/2211.11461\n",
    "\n",
    "$$\n",
    "H(a)^2=H_0^2\\left(\\Omega_{\\Lambda}+\\Omega_m a^{-3}\\right)\n",
    "$$\n",
    "\n",
    "$$\n",
    "y_{\\Lambda \\mathrm{CDM}}(x)=H_0^2\\left(1+3 \\Omega_{\\mathrm{m} 0} z+3 \\Omega_{\\mathrm{m} 0} z^2+\\Omega_{\\mathrm{m} 0} z^3\\right) .\n",
    "$$\n",
    "\n",
    "where $\\Omega_{\\mathrm{m} 0} \\sim 1/3$, "
   ]
  },
  {
   "cell_type": "code",
   "execution_count": 4,
   "metadata": {},
   "outputs": [],
   "source": [
    "client = openai.OpenAI(\n",
    "  base_url=\"https://openrouter.ai/api/v1\",\n",
    "  api_key=\"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\",\n",
    ")"
   ]
  },
  {
   "cell_type": "code",
   "execution_count": 6,
   "metadata": {},
   "outputs": [
    {
     "data": {
      "image/png": "[encoded data removed]",
      "text/plain": [
       "<Figure size 640x480 with 1 Axes>"
      ]
     },
     "metadata": {},
     "output_type": "display_data"
    }
   ],
   "source": [
    "x = np.linspace(0.01, 5, 100)\n",
    "omg_m = 0.33\n",
    "y = 1+3*omg_m*x + 3*omg_m*x**2 + omg_m*x**3\n",
    "#y = np.pi*np.ones(100)\n",
    "\n",
    "plt.plot(x, y,label='data')\n",
    "plt.xlabel('z')\n",
    "plt.ylabel('$H/H_0$')\n",
    "plt.grid(True)\n",
    "#plt.legend()\n",
    "plt.savefig('plot_cos.png')\n",
    "\n",
    "# Getting the Base64 string\n",
    "base64_image = LLMSR.images.encode_image('plot.png')"
   ]
  },
  {
   "cell_type": "markdown",
   "metadata": {},
   "source": [
    "# Default Settings"
   ]
  },
  {
   "cell_type": "code",
   "execution_count": 8,
   "metadata": {},
   "outputs": [
    {
     "name": "stdout",
     "output_type": "stream",
     "text": [
      "Checking constant function\n",
      "Constant function is not a good fit.\n",
      "Score:  -0.8604239991996855\n",
      "Constant:  [22.22510742]\n",
      "Generating Initial population population\n"
     ]
    },
    {
     "name": "stderr",
     "output_type": "stream",
     "text": [
      " 40%|████      | 10/25 [00:36<01:02,  4.20s/it]"
     ]
    },
    {
     "name": "stdout",
     "output_type": "stream",
     "text": [
      "Optimal parameters not found: Number of calls to function has reached maxfev = 800.\n",
      "Getting another response from LLM\n"
     ]
    },
    {
     "name": "stderr",
     "output_type": "stream",
     "text": [
      " 72%|███████▏  | 18/25 [00:57<00:17,  2.55s/it]"
     ]
    },
    {
     "name": "stdout",
     "output_type": "stream",
     "text": [
      "unsupported operand type(s) for -: 'function' and 'float'\n",
      "Getting another response from LLM\n"
     ]
    },
    {
     "name": "stderr",
     "output_type": "stream",
     "text": [
      "100%|██████████| 25/25 [01:19<00:00,  3.19s/it]\n"
     ]
    },
    {
     "name": "stdout",
     "output_type": "stream",
     "text": [
      "Best score:  -0.07970772265650844\n",
      "Best ansatz:   params[0] * np.exp(-params[1] * x)\n",
      "Best params:  [ 2.94772318 -0.65072807]\n",
      "Generation: 1\n"
     ]
    },
    {
     "name": "stderr",
     "output_type": "stream",
     "text": [
      "100%|██████████| 25/25 [01:04<00:00,  2.57s/it]\n"
     ]
    },
    {
     "name": "stdout",
     "output_type": "stream",
     "text": [
      "Best score:  -0.1721175598553587\n",
      "Best ansatz:   params[0] * np.exp(-params[1] * x**2)\n",
      "Best params:  [ 8.17777137 -0.09257069]\n",
      "Generation: 2\n"
     ]
    },
    {
     "name": "stderr",
     "output_type": "stream",
     "text": [
      "  0%|          | 0/25 [00:00<?, ?it/s]<string>:1: RuntimeWarning: overflow encountered in exp\n",
      "  4%|▍         | 1/25 [00:02<01:01,  2.56s/it]"
     ]
    },
    {
     "name": "stdout",
     "output_type": "stream",
     "text": [
      "Optimal parameters not found: Number of calls to function has reached maxfev = 800.\n",
      "Getting another response from LLM\n"
     ]
    },
    {
     "name": "stderr",
     "output_type": "stream",
     "text": [
      "100%|██████████| 25/25 [01:19<00:00,  3.19s/it]\n"
     ]
    },
    {
     "name": "stdout",
     "output_type": "stream",
     "text": [
      "Best score:  -0.004839994167275205\n",
      "Best ansatz:   params[0] * np.exp(-(x - params[1])**2 / params[2])\n",
      "Best params:  [143.77125973   8.09664172  13.6770352 ]\n",
      "Generation: 3\n"
     ]
    },
    {
     "name": "stderr",
     "output_type": "stream",
     "text": [
      " 32%|███▏      | 8/25 [00:31<00:49,  2.94s/it]<string>:1: RuntimeWarning: overflow encountered in power\n",
      " 40%|████      | 10/25 [00:45<01:23,  5.56s/it]"
     ]
    },
    {
     "name": "stdout",
     "output_type": "stream",
     "text": [
      "Optimal parameters not found: Number of calls to function has reached maxfev = 800.\n",
      "Getting another response from LLM\n"
     ]
    },
    {
     "name": "stderr",
     "output_type": "stream",
     "text": [
      " 60%|██████    | 15/25 [00:56<00:27,  2.74s/it]<string>:1: RuntimeWarning: invalid value encountered in power\n",
      " 64%|██████▍   | 16/25 [00:58<00:20,  2.26s/it]"
     ]
    },
    {
     "name": "stdout",
     "output_type": "stream",
     "text": [
      "Optimal parameters not found: Number of calls to function has reached maxfev = 800.\n",
      "Getting another response from LLM\n"
     ]
    },
    {
     "name": "stderr",
     "output_type": "stream",
     "text": [
      "100%|██████████| 25/25 [01:37<00:00,  3.92s/it]\n"
     ]
    },
    {
     "name": "stdout",
     "output_type": "stream",
     "text": [
      "Best score:  -0.02113378456431468\n",
      "Best ansatz:   params[0] * np.exp(-params[1] * x) * np.cos(params[2] * x)\n",
      "Best params:  [ 1.61632967 -0.94890754  0.23616689]\n",
      "Generation: 4\n"
     ]
    },
    {
     "name": "stderr",
     "output_type": "stream",
     "text": [
      " 12%|█▏        | 3/25 [00:13<01:41,  4.61s/it]<string>:1: RuntimeWarning: overflow encountered in multiply\n",
      " 40%|████      | 10/25 [00:42<00:43,  2.90s/it]"
     ]
    },
    {
     "name": "stdout",
     "output_type": "stream",
     "text": [
      "Optimal parameters not found: Number of calls to function has reached maxfev = 800.\n",
      "Getting another response from LLM\n"
     ]
    },
    {
     "name": "stderr",
     "output_type": "stream",
     "text": [
      " 44%|████▍     | 11/25 [00:43<00:34,  2.48s/it]"
     ]
    },
    {
     "name": "stdout",
     "output_type": "stream",
     "text": [
      "Optimal parameters not found: Number of calls to function has reached maxfev = 800.\n",
      "Getting another response from LLM\n"
     ]
    },
    {
     "name": "stderr",
     "output_type": "stream",
     "text": [
      " 52%|█████▏    | 13/25 [00:46<00:24,  2.06s/it]"
     ]
    },
    {
     "name": "stdout",
     "output_type": "stream",
     "text": [
      "Optimal parameters not found: Number of calls to function has reached maxfev = 800.\n",
      "Getting another response from LLM\n"
     ]
    },
    {
     "name": "stderr",
     "output_type": "stream",
     "text": [
      " 76%|███████▌  | 19/25 [01:02<00:18,  3.03s/it]"
     ]
    },
    {
     "name": "stdout",
     "output_type": "stream",
     "text": [
      "Optimal parameters not found: Number of calls to function has reached maxfev = 800.\n",
      "Getting another response from LLM\n"
     ]
    },
    {
     "name": "stderr",
     "output_type": "stream",
     "text": [
      "100%|██████████| 25/25 [01:24<00:00,  3.37s/it]\n"
     ]
    },
    {
     "name": "stdout",
     "output_type": "stream",
     "text": [
      "Best score:  -0.06252283091190196\n",
      "Best ansatz:   params[0] * np.exp(-params[1] * x) / (1 + params[2] * x**2)\n",
      "Best params:  [ 2.38573676 -0.8200132   0.03618225]\n",
      "Generation: 5\n"
     ]
    },
    {
     "name": "stderr",
     "output_type": "stream",
     "text": [
      "  4%|▍         | 1/25 [00:02<00:53,  2.22s/it]"
     ]
    },
    {
     "name": "stdout",
     "output_type": "stream",
     "text": [
      "Optimal parameters not found: Number of calls to function has reached maxfev = 800.\n",
      "Getting another response from LLM\n"
     ]
    },
    {
     "name": "stderr",
     "output_type": "stream",
     "text": [
      " 20%|██        | 5/25 [00:12<00:56,  2.83s/it]"
     ]
    },
    {
     "name": "stdout",
     "output_type": "stream",
     "text": [
      "Optimal parameters not found: Number of calls to function has reached maxfev = 800.\n",
      "Getting another response from LLM\n"
     ]
    },
    {
     "name": "stderr",
     "output_type": "stream",
     "text": [
      "100%|██████████| 25/25 [01:34<00:00,  3.80s/it]\n"
     ]
    },
    {
     "name": "stdout",
     "output_type": "stream",
     "text": [
      "Best score:  -0.02113378456431468\n",
      "Best ansatz:   params[0] * np.exp(-params[1] * x) * np.cos(params[2] * x)\n",
      "Best params:  [ 1.61632967 -0.94890754  0.23616689]\n",
      "Generation: 6\n"
     ]
    },
    {
     "name": "stderr",
     "output_type": "stream",
     "text": [
      " 56%|█████▌    | 14/25 [00:39<00:43,  3.94s/it]"
     ]
    },
    {
     "name": "stdout",
     "output_type": "stream",
     "text": [
      "Optimal parameters not found: Number of calls to function has reached maxfev = 800.\n",
      "Getting another response from LLM\n"
     ]
    },
    {
     "name": "stderr",
     "output_type": "stream",
     "text": [
      "100%|██████████| 25/25 [01:26<00:00,  3.47s/it]\n"
     ]
    },
    {
     "name": "stdout",
     "output_type": "stream",
     "text": [
      "Best score:  -0.0048400172836179315\n",
      "Best ansatz:   params[0] * np.exp(-params[1] * x) * np.exp(-params[2] * x**2)\n",
      "Best params:  [ 1.19137578 -1.18397587  0.07311523]\n",
      "Generation: 7\n"
     ]
    },
    {
     "name": "stderr",
     "output_type": "stream",
     "text": [
      "  4%|▍         | 1/25 [00:01<00:43,  1.82s/it]/Users/trharvey/llm/lib/python3.13/site-packages/LLMSR/fit.py:20: OptimizeWarning: Covariance of the parameters could not be estimated\n",
      "  params_opt, _ = curve_fit(curve, x, y, p0=params_initial)\n",
      "100%|██████████| 25/25 [02:28<00:00,  5.92s/it]\n"
     ]
    },
    {
     "name": "stdout",
     "output_type": "stream",
     "text": [
      "Best score:  -0.0011421377396144607\n",
      "Best ansatz:   params[0] * x**params[1] * np.exp(-params[2] * x) + params[3]\n",
      "Best params:  [ 1.71338547  1.9030549  -0.13178645  1.26002449]\n",
      "Generation: 8\n"
     ]
    },
    {
     "name": "stderr",
     "output_type": "stream",
     "text": [
      " 88%|████████▊ | 22/25 [02:09<00:09,  3.15s/it]"
     ]
    },
    {
     "name": "stdout",
     "output_type": "stream",
     "text": [
      "Optimal parameters not found: Number of calls to function has reached maxfev = 800.\n",
      "Getting another response from LLM\n"
     ]
    },
    {
     "name": "stderr",
     "output_type": "stream",
     "text": [
      "100%|██████████| 25/25 [02:17<00:00,  5.52s/it]\n"
     ]
    },
    {
     "name": "stdout",
     "output_type": "stream",
     "text": [
      "Optimal parameters not found: Number of calls to function has reached maxfev = 1200.\n",
      "Getting another response from LLM\n",
      "Best score:  -0.0009689695504523964\n",
      "Best ansatz:   params[0] * np.exp(-params[1] * x) * (x**params[2] + params[3])\n",
      "Best params:  [ 1.61268948 -0.12456767  1.95383662  0.76499512]\n",
      "Generation: 9\n"
     ]
    },
    {
     "name": "stderr",
     "output_type": "stream",
     "text": [
      " 40%|████      | 10/25 [00:25<00:37,  2.51s/it]"
     ]
    },
    {
     "name": "stdout",
     "output_type": "stream",
     "text": [
      "Optimal parameters not found: Number of calls to function has reached maxfev = 1200.\n",
      "Getting another response from LLM\n"
     ]
    },
    {
     "name": "stderr",
     "output_type": "stream",
     "text": [
      " 92%|█████████▏| 23/25 [01:02<00:04,  2.46s/it]"
     ]
    },
    {
     "name": "stdout",
     "output_type": "stream",
     "text": [
      "Optimal parameters not found: Number of calls to function has reached maxfev = 800.\n",
      "Getting another response from LLM\n"
     ]
    },
    {
     "name": "stderr",
     "output_type": "stream",
     "text": [
      "100%|██████████| 25/25 [01:13<00:00,  2.93s/it]\n"
     ]
    },
    {
     "name": "stdout",
     "output_type": "stream",
     "text": [
      "Best score:  -0.0011421377396144607\n",
      "Best ansatz:   params[0] * x**params[1] * np.exp(-params[2] * x) + params[3]\n",
      "Best params:  [ 1.71338547  1.9030549  -0.13178645  1.26002449]\n",
      "Credits spent: 1.1655999999999977\n"
     ]
    }
   ],
   "source": [
    "population_size = 25\n",
    "num_of_generations = 10\n",
    "start = LLMSR.llm.check_key_limit(client)\n",
    "res = LLMSR.run_genetic(client, base64_image, x, y, population_size,num_of_generations, \n",
    "                        temperature=1., model=\"openai/gpt-4o\", system_prompt=None, elite=False)\n",
    "print(f\"Credits spent: {start - LLMSR.llm.check_key_limit(client)}\")"
   ]
  },
  {
   "cell_type": "markdown",
   "metadata": {},
   "source": [
    "# Modified prompt"
   ]
  },
  {
   "cell_type": "code",
   "execution_count": 9,
   "metadata": {},
   "outputs": [],
   "source": [
    "prompt = (\"Give an improved ansatz to the list for the image. The image is of the hubble parameter, as a function of redshift, \"\n",
    "          \"for a given cosmological model. Follow on from the users text with no explaining.\"\n",
    "         \"Params can be any length. There's some noise in the data, give preference to simpler functions.\")"
   ]
  },
  {
   "cell_type": "code",
   "execution_count": 10,
   "metadata": {},
   "outputs": [
    {
     "name": "stdout",
     "output_type": "stream",
     "text": [
      "Give an improved ansatz to the list for the image. The image is of the hubble parameter, as a function of redshift, for a given cosmological model. Follow on from the users text with no explaining.Params can be any length. There's some noise in the data, give preference to simpler functions.\n"
     ]
    }
   ],
   "source": [
    "print(prompt)"
   ]
  },
  {
   "cell_type": "code",
   "execution_count": 11,
   "metadata": {},
   "outputs": [
    {
     "name": "stdout",
     "output_type": "stream",
     "text": [
      "Checking constant function\n",
      "Constant function is not a good fit.\n",
      "Score:  -0.8604239991996855\n",
      "Constant:  [22.22510742]\n",
      "Generating Initial population population\n"
     ]
    },
    {
     "name": "stderr",
     "output_type": "stream",
     "text": [
      "  4%|▍         | 1/25 [00:03<01:21,  3.39s/it]"
     ]
    },
    {
     "name": "stdout",
     "output_type": "stream",
     "text": [
      "Optimal parameters not found: Number of calls to function has reached maxfev = 800.\n",
      "Getting another response from LLM\n"
     ]
    },
    {
     "name": "stderr",
     "output_type": "stream",
     "text": [
      " 64%|██████▍   | 16/25 [01:12<00:30,  3.36s/it]"
     ]
    },
    {
     "name": "stdout",
     "output_type": "stream",
     "text": [
      "Optimal parameters not found: Number of calls to function has reached maxfev = 800.\n",
      "Getting another response from LLM\n"
     ]
    },
    {
     "name": "stderr",
     "output_type": "stream",
     "text": [
      " 80%|████████  | 20/25 [01:23<00:14,  2.88s/it]"
     ]
    },
    {
     "name": "stdout",
     "output_type": "stream",
     "text": [
      "Optimal parameters not found: Number of calls to function has reached maxfev = 800.\n",
      "Getting another response from LLM\n"
     ]
    },
    {
     "name": "stderr",
     "output_type": "stream",
     "text": [
      "100%|██████████| 25/25 [01:35<00:00,  3.83s/it]\n"
     ]
    },
    {
     "name": "stdout",
     "output_type": "stream",
     "text": [
      "Best score:  -0.0005599993979860859\n",
      "Best ansatz:   params[0] * np.exp(-params[1] * x) * (params[2] * x**2 + params[3] * x + 1)\n",
      "Best params:  [ 1.17034253 -0.12016555  1.275723    0.1765919 ]\n",
      "Generation: 1\n"
     ]
    },
    {
     "name": "stderr",
     "output_type": "stream",
     "text": [
      " 56%|█████▌    | 14/25 [00:28<00:23,  2.13s/it]"
     ]
    },
    {
     "name": "stdout",
     "output_type": "stream",
     "text": [
      "Optimal parameters not found: Number of calls to function has reached maxfev = 800.\n",
      "Getting another response from LLM\n"
     ]
    },
    {
     "name": "stderr",
     "output_type": "stream",
     "text": [
      " 76%|███████▌  | 19/25 [00:43<00:15,  2.64s/it]"
     ]
    },
    {
     "name": "stdout",
     "output_type": "stream",
     "text": [
      "Optimal parameters not found: Number of calls to function has reached maxfev = 800.\n",
      "Getting another response from LLM\n"
     ]
    },
    {
     "name": "stderr",
     "output_type": "stream",
     "text": [
      " 84%|████████▍ | 21/25 [00:51<00:13,  3.29s/it]/Users/trharvey/llm/lib/python3.13/site-packages/LLMSR/fit.py:20: OptimizeWarning: Covariance of the parameters could not be estimated\n",
      "  params_opt, _ = curve_fit(curve, x, y, p0=params_initial)\n",
      "100%|██████████| 25/25 [00:59<00:00,  2.36s/it]\n"
     ]
    },
    {
     "name": "stdout",
     "output_type": "stream",
     "text": [
      "Best score:  -1.8087435066935242e-16\n",
      "Best ansatz:   params[0] * np.exp(-params[1] * x) * (params[2] * x ** 3 + params[3] * x ** 2 + params[4] * x + 1)\n",
      "Best params:  [9.99999911e-01 3.09640801e-08 3.30000163e-01 9.89999789e-01\n",
      " 9.90000484e-01]\n",
      "Exit condition met.\n",
      "Credits spent: 0.2609599999999972\n"
     ]
    }
   ],
   "source": [
    "population_size = 25\n",
    "num_of_generations = 10\n",
    "start = LLMSR.llm.check_key_limit(client)\n",
    "res = LLMSR.run_genetic(client, base64_image, x, y, population_size,num_of_generations, \n",
    "                        temperature=1., model=\"openai/gpt-4o\", system_prompt=prompt, elite=False)\n",
    "print(f\"Credits spent: {start - LLMSR.llm.check_key_limit(client)}\")"
   ]
  },
  {
   "cell_type": "code",
   "execution_count": null,
   "metadata": {},
   "outputs": [],
   "source": []
  }
 ],
 "metadata": {
  "kernelspec": {
   "display_name": "llm",
   "language": "python",
   "name": "llm"
  },
  "language_info": {
   "codemirror_mode": {
    "name": "ipython",
    "version": 3
   },
   "file_extension": ".py",
   "mimetype": "text/x-python",
   "name": "python",
   "nbconvert_exporter": "python",
   "pygments_lexer": "ipython3",
   "version": "3.13.2"
  }
 },
 "nbformat": 4,
 "nbformat_minor": 2
}
